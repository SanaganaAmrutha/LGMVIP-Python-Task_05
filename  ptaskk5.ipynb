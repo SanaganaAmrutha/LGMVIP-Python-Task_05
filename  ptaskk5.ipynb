{
 "cells": [
  {
   "cell_type": "code",
   "execution_count": 1,
   "id": "6d23cdda-01a5-4e10-b38d-9bec7f3fd904",
   "metadata": {
    "tags": []
   },
   "outputs": [],
   "source": [
    "import nltk\n",
    "from nltk.stem import WordNetLemmatizer\n",
    "from sklearn.feature_extraction.text import TfidfVectorizer\n",
    "from sklearn.naive_bayes import MultinomialNB\n",
    "from sklearn.pipeline import make_pipeline\n",
    "import numpy as np\n",
    "import pickle\n",
    "\n",
    "# Initialize the lemmatizer\n",
    "lemmatizer = WordNetLemmatizer()\n",
    "\n",
    "# Set up delay for the game (if needed)\n",
    "delay = 0.1\n"
   ]
  },
  {
   "cell_type": "code",
   "execution_count": 2,
   "id": "868da294-3e37-4273-b761-d46bf635f1cc",
   "metadata": {
    "tags": []
   },
   "outputs": [
    {
     "name": "stderr",
     "output_type": "stream",
     "text": [
      "[nltk_data] Downloading package punkt to /home/amrtutha/nltk_data...\n",
      "[nltk_data]   Package punkt is already up-to-date!\n",
      "[nltk_data] Downloading package wordnet to /home/amrtutha/nltk_data...\n",
      "[nltk_data]   Package wordnet is already up-to-date!\n"
     ]
    },
    {
     "data": {
      "text/plain": [
       "True"
      ]
     },
     "execution_count": 2,
     "metadata": {},
     "output_type": "execute_result"
    }
   ],
   "source": [
    "nltk.download('punkt')\n",
    "nltk.download('wordnet')\n"
   ]
  },
  {
   "cell_type": "code",
   "execution_count": 3,
   "id": "8473fc19-269e-47c1-bebf-4095e6014394",
   "metadata": {
    "tags": []
   },
   "outputs": [],
   "source": [
    "def preprocess_text(text):\n",
    "    words = nltk.word_tokenize(text)\n",
    "    words = [lemmatizer.lemmatize(word.lower()) for word in words]\n",
    "    return ' '.join(words)\n"
   ]
  },
  {
   "cell_type": "code",
   "execution_count": 8,
   "id": "65d04e0d-b220-44a6-b471-19f44ae41446",
   "metadata": {
    "tags": []
   },
   "outputs": [
    {
     "ename": "SyntaxError",
     "evalue": "invalid syntax (3291754748.py, line 10)",
     "output_type": "error",
     "traceback": [
      "\u001b[0;36m  Cell \u001b[0;32mIn[8], line 10\u001b[0;36m\u001b[0m\n\u001b[0;31m    for intent, phrases in data.items():with open('chatbot_model.pkl', 'wb') as f:\u001b[0m\n\u001b[0m                                        ^\u001b[0m\n\u001b[0;31mSyntaxError\u001b[0m\u001b[0;31m:\u001b[0m invalid syntax\n"
     ]
    }
   ],
   "source": [
    "data = {\n",
    "    'greet': ['hello', 'hi', 'hey', 'good morning', 'good evening'],\n",
    "    'goodbye': ['bye', 'see you later', 'goodbye'],\n",
    "    'thanks': ['thanks', 'thank you', 'much appreciated']\n",
    "}\n",
    "\n",
    "train_data = []\n",
    "train_labels = []\n",
    "\n",
    "for intent, phrases in data.items():with open('chatbot_model.pkl', 'wb') as f:\n",
    "    pickle.dump(model, f)\n",
    "\n",
    "with open('lemmatizer.pkl', 'wb') as f:\n",
    "    pickle.dump(lemmatizer, f)\n",
    "\n",
    "    for phrase in phrases:\n",
    "        train_data.append(preprocess_text(phrase))\n",
    "        train_labels.append(intent)\n",
    "\n",
    "from sklearn.model_selection import train_test_split\n",
    "X_train, X_test, y_train, y_test = train_test_split(train_data, train_labels, test_size=0.2, random_state=42)\n",
    "with open('chatbot_model.pkl', 'wb') as f:\n",
    "    pickle.dump(model, f)\n",
    "\n",
    "with open('lemmatizer.pkl', 'wb') as f:\n",
    "    pickle.dump(lemmatizer, f)\n"
   ]
  },
  {
   "cell_type": "code",
   "execution_count": 9,
   "id": "0fbbfcec-259e-48d1-8322-19a28ead71f7",
   "metadata": {
    "tags": []
   },
   "outputs": [
    {
     "name": "stdout",
     "output_type": "stream",
     "text": [
      "Model Accuracy: 0.3333333333333333\n"
     ]
    }
   ],
   "source": [
    "model = make_pipeline(TfidfVectorizer(), MultinomialNB())\n",
    "model.fit(X_train, y_train)\n",
    "\n",
    "# Evaluate the model\n",
    "accuracy = model.score(X_test, y_test)\n",
    "print(f'Model Accuracy: {accuracy}')\n"
   ]
  },
  {
   "cell_type": "code",
   "execution_count": 10,
   "id": "96fab7a5-830f-4f7f-b114-2275510040da",
   "metadata": {
    "tags": []
   },
   "outputs": [],
   "source": [
    "with open('chatbot_model.pkl', 'wb') as f:\n",
    "    pickle.dump(model, f)\n",
    "\n",
    "with open('lemmatizer.pkl', 'wb') as f:\n",
    "    pickle.dump(lemmatizer, f)\n"
   ]
  },
  {
   "cell_type": "code",
   "execution_count": 12,
   "id": "601ae255-8032-4623-8f30-94e36c3cf3ee",
   "metadata": {
    "tags": []
   },
   "outputs": [
    {
     "name": "stdin",
     "output_type": "stream",
     "text": [
      "You:  bye\n"
     ]
    },
    {
     "name": "stdout",
     "output_type": "stream",
     "text": [
      "Bot: Goodbye!\n"
     ]
    }
   ],
   "source": [
    "# Load the model and lemmatizer\n",
    "with open('chatbot_model.pkl', 'rb') as f:\n",
    "    model = pickle.load(f)\n",
    "\n",
    "with open('lemmatizer.pkl', 'rb') as f:\n",
    "    lemmatizer = pickle.load(f)\n",
    "\n",
    "def chatbot_response(text):\n",
    "    text = preprocess_text(text)\n",
    "    intent = model.predict([text])[0]\n",
    "    return intent\n",
    "\n",
    "# Example interaction\n",
    "while True:\n",
    "    user_input = input(\"You: \")\n",
    "    if user_input.lower() in ['exit', 'quit', 'bye']:\n",
    "        print(\"Bot: Goodbye!\")\n",
    "        break\n",
    "    response = chatbot_response(user_input)\n",
    "    print(f'Bot: {response}')\n"
   ]
  },
  {
   "cell_type": "code",
   "execution_count": null,
   "id": "a8446b66-1418-4451-8752-81295d64464c",
   "metadata": {},
   "outputs": [],
   "source": []
  }
 ],
 "metadata": {
  "kernelspec": {
   "display_name": "Python 3 (ipykernel)",
   "language": "python",
   "name": "python3"
  },
  "language_info": {
   "codemirror_mode": {
    "name": "ipython",
    "version": 3
   },
   "file_extension": ".py",
   "mimetype": "text/x-python",
   "name": "python",
   "nbconvert_exporter": "python",
   "pygments_lexer": "ipython3",
   "version": "3.11.5"
  }
 },
 "nbformat": 4,
 "nbformat_minor": 5
}
